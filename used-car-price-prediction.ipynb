{
 "cells": [
  {
   "cell_type": "code",
   "execution_count": null,
   "id": "bdf4da8a",
   "metadata": {
    "_cell_guid": "b1076dfc-b9ad-4769-8c92-a6c4dae69d19",
    "_uuid": "8f2839f25d086af736a60e9eeb907d3b93b6e0e5",
    "papermill": {
     "duration": 0.436313,
     "end_time": "2024-01-08T11:00:01.739904",
     "exception": false,
     "start_time": "2024-01-08T11:00:01.303591",
     "status": "completed"
    },
    "tags": []
   },
   "outputs": [
    {
     "ename": "",
     "evalue": "",
     "output_type": "error",
     "traceback": [
      "\u001b[1;31mFailed to start the Kernel. \n",
      "\u001b[1;31mBad file descriptor (C:\\Users\\runneradmin\\AppData\\Local\\Temp\\tmpuk6z2au_\\build\\_deps\\bundled_libzmq-src\\src\\epoll.cpp:73). \n",
      "\u001b[1;31mView Jupyter <a href='command:jupyter.viewOutput'>log</a> for further details."
     ]
    }
   ],
   "source": [
    "import numpy as np \n",
    "import pandas as pd \n",
    "import os\n",
    "import joblib"
   ]
  },
  {
   "cell_type": "code",
   "execution_count": null,
   "id": "4fd045af",
   "metadata": {},
   "outputs": [],
   "source": []
  },
  {
   "cell_type": "markdown",
   "id": "1e07c50d",
   "metadata": {
    "papermill": {
     "duration": 0.004437,
     "end_time": "2024-01-08T11:00:01.749422",
     "exception": false,
     "start_time": "2024-01-08T11:00:01.744985",
     "status": "completed"
    },
    "tags": []
   },
   "source": [
    "## Importing Libraries for Machine learning"
   ]
  },
  {
   "cell_type": "code",
   "execution_count": null,
   "id": "4149cca2",
   "metadata": {
    "papermill": {
     "duration": 3.697275,
     "end_time": "2024-01-08T11:00:05.451731",
     "exception": false,
     "start_time": "2024-01-08T11:00:01.754456",
     "status": "completed"
    },
    "tags": []
   },
   "outputs": [],
   "source": [
    "from sklearn.model_selection import train_test_split\n",
    "from sklearn.ensemble import GradientBoostingRegressor\n",
    "from sklearn.metrics import mean_squared_error,mean_absolute_error\n",
    "from sklearn.preprocessing import LabelEncoder\n",
    "import matplotlib.pyplot as plt"
   ]
  },
  {
   "cell_type": "code",
   "execution_count": null,
   "id": "64fb4285",
   "metadata": {},
   "outputs": [],
   "source": [
    "# cd \"used-car-price-prediction-randomforest\""
   ]
  },
  {
   "cell_type": "code",
   "execution_count": null,
   "id": "bdf43085",
   "metadata": {},
   "outputs": [],
   "source": [
    "# os.getcwd()"
   ]
  },
  {
   "cell_type": "markdown",
   "id": "a278394f",
   "metadata": {
    "papermill": {
     "duration": 0.004348,
     "end_time": "2024-01-08T11:00:05.460830",
     "exception": false,
     "start_time": "2024-01-08T11:00:05.456482",
     "status": "completed"
    },
    "tags": []
   },
   "source": [
    "## Reading the data"
   ]
  },
  {
   "cell_type": "code",
   "execution_count": null,
   "id": "d5a0d208",
   "metadata": {
    "papermill": {
     "duration": 0.051835,
     "end_time": "2024-01-08T11:00:05.517190",
     "exception": false,
     "start_time": "2024-01-08T11:00:05.465355",
     "status": "completed"
    },
    "tags": []
   },
   "outputs": [],
   "source": [
    "df=pd.read_csv('ss.csv')\n",
    "df.head()"
   ]
  },
  {
   "cell_type": "markdown",
   "id": "22c3e7df",
   "metadata": {
    "papermill": {
     "duration": 0.004768,
     "end_time": "2024-01-08T11:00:05.527042",
     "exception": false,
     "start_time": "2024-01-08T11:00:05.522274",
     "status": "completed"
    },
    "tags": []
   },
   "source": [
    "## Convert the text values into the numerical values for the model"
   ]
  },
  {
   "cell_type": "code",
   "execution_count": null,
   "id": "3af6e8d9",
   "metadata": {},
   "outputs": [],
   "source": [
    "for i in df:\n",
    "    print(df[i].value_counts)"
   ]
  },
  {
   "cell_type": "code",
   "execution_count": null,
   "id": "68a817f7",
   "metadata": {
    "papermill": {
     "duration": 0.013226,
     "end_time": "2024-01-08T11:00:05.545215",
     "exception": false,
     "start_time": "2024-01-08T11:00:05.531989",
     "status": "completed"
    },
    "tags": []
   },
   "outputs": [],
   "source": [
    "fuel_type,seller_type,transmission=LabelEncoder(),LabelEncoder(),LabelEncoder()"
   ]
  },
  {
   "cell_type": "markdown",
   "id": "49af3cbf",
   "metadata": {
    "papermill": {
     "duration": 0.004621,
     "end_time": "2024-01-08T11:00:05.554762",
     "exception": false,
     "start_time": "2024-01-08T11:00:05.550141",
     "status": "completed"
    },
    "tags": []
   },
   "source": [
    "## Fit into the model and transform it"
   ]
  },
  {
   "cell_type": "code",
   "execution_count": null,
   "id": "6b6b3d64",
   "metadata": {
    "papermill": {
     "duration": 0.016942,
     "end_time": "2024-01-08T11:00:05.576560",
     "exception": false,
     "start_time": "2024-01-08T11:00:05.559618",
     "status": "completed"
    },
    "tags": []
   },
   "outputs": [],
   "source": [
    "df['Fuel_Type']=fuel_type.fit_transform(df['Fuel_Type'])\n",
    "df['Seller_Type']=seller_type.fit_transform(df['Seller_Type'])\n",
    "df['Transmission']=transmission.fit_transform(df['Transmission'])"
   ]
  },
  {
   "cell_type": "markdown",
   "id": "59abc93a",
   "metadata": {
    "papermill": {
     "duration": 0.00457,
     "end_time": "2024-01-08T11:00:05.586048",
     "exception": false,
     "start_time": "2024-01-08T11:00:05.581478",
     "status": "completed"
    },
    "tags": []
   },
   "source": [
    "## Feauture Selection"
   ]
  },
  {
   "cell_type": "code",
   "execution_count": null,
   "id": "bcbbb71d",
   "metadata": {
    "papermill": {
     "duration": 0.022977,
     "end_time": "2024-01-08T11:00:05.613783",
     "exception": false,
     "start_time": "2024-01-08T11:00:05.590806",
     "status": "completed"
    },
    "tags": []
   },
   "outputs": [],
   "source": [
    "X=df[['Year','Present_Price', 'Kms_Driven',\n",
    "'Fuel_Type', 'Seller_Type', 'Transmission', 'Owner']]\n",
    "Y=df[[ 'Selling_Price']]"
   ]
  },
  {
   "cell_type": "markdown",
   "id": "3d982d42",
   "metadata": {
    "papermill": {
     "duration": 0.004565,
     "end_time": "2024-01-08T11:00:05.623350",
     "exception": false,
     "start_time": "2024-01-08T11:00:05.618785",
     "status": "completed"
    },
    "tags": []
   },
   "source": [
    "## Make the models in the list to use it"
   ]
  },
  {
   "cell_type": "code",
   "execution_count": null,
   "id": "70b99a17",
   "metadata": {
    "papermill": {
     "duration": 0.01801,
     "end_time": "2024-01-08T11:00:05.646204",
     "exception": false,
     "start_time": "2024-01-08T11:00:05.628194",
     "status": "completed"
    },
    "tags": []
   },
   "outputs": [],
   "source": [
    "model=GradientBoostingRegressor(n_estimators=100,random_state=42)"
   ]
  },
  {
   "cell_type": "markdown",
   "id": "64f6217f",
   "metadata": {
    "papermill": {
     "duration": 0.004626,
     "end_time": "2024-01-08T11:00:05.655770",
     "exception": false,
     "start_time": "2024-01-08T11:00:05.651144",
     "status": "completed"
    },
    "tags": []
   },
   "source": [
    "## Split the data for traing and testing purpose"
   ]
  },
  {
   "cell_type": "code",
   "execution_count": null,
   "id": "d61aeea8",
   "metadata": {
    "papermill": {
     "duration": 0.015687,
     "end_time": "2024-01-08T11:00:05.676288",
     "exception": false,
     "start_time": "2024-01-08T11:00:05.660601",
     "status": "completed"
    },
    "tags": []
   },
   "outputs": [],
   "source": [
    "x_tr,x_te,y_tr,y_te=train_test_split(X,Y,random_state=42)"
   ]
  },
  {
   "cell_type": "markdown",
   "id": "b69d6a32",
   "metadata": {
    "papermill": {
     "duration": 0.004666,
     "end_time": "2024-01-08T11:00:05.686268",
     "exception": false,
     "start_time": "2024-01-08T11:00:05.681602",
     "status": "completed"
    },
    "tags": []
   },
   "source": [
    "## Ploting with the use of matplot lib"
   ]
  },
  {
   "cell_type": "code",
   "execution_count": null,
   "id": "0e70b14a",
   "metadata": {
    "papermill": {
     "duration": 0.014379,
     "end_time": "2024-01-08T11:00:05.705430",
     "exception": false,
     "start_time": "2024-01-08T11:00:05.691051",
     "status": "completed"
    },
    "tags": []
   },
   "outputs": [],
   "source": [
    "def plot_fig(y_te,y_pr):\n",
    "    plt.scatter(y_te,y_te,color='blue',label='Actual Labels')\n",
    "    plt.scatter(y_te,y_pr,color='green',label='Predicted Labels')\n",
    "    #plt.plot([min(y_te),max(y_te)],[min(y_te),max(y_te)],color='red',linestyle='--',label='Perfect Prediction')\n",
    "    plt.xlabel('Actual Labels')\n",
    "    plt.ylabel('Predicted Labels')\n",
    "    plt.title(\"Actual vs Predicted Labels\")\n",
    "    plt.legend()\n",
    "    plt.tight_layout()\n",
    "    plt.show()"
   ]
  },
  {
   "cell_type": "markdown",
   "id": "9152502a",
   "metadata": {
    "papermill": {
     "duration": 0.004618,
     "end_time": "2024-01-08T11:00:05.714903",
     "exception": false,
     "start_time": "2024-01-08T11:00:05.710285",
     "status": "completed"
    },
    "tags": []
   },
   "source": [
    "## Iterate over the list and make the models run and plot the predicted values"
   ]
  },
  {
   "cell_type": "code",
   "execution_count": null,
   "id": "970ba4a9",
   "metadata": {
    "papermill": {
     "duration": 141.294186,
     "end_time": "2024-01-08T11:02:27.013834",
     "exception": false,
     "start_time": "2024-01-08T11:00:05.719648",
     "status": "completed"
    },
    "tags": []
   },
   "outputs": [],
   "source": [
    "\n",
    "model.fit(x_tr,y_tr)\n",
    "y_pr=model.predict(x_te)\n",
    "print(\"Absolute_Score\",mean_absolute_error(y_te,y_pr))\n",
    "print(\"Mean_Squared_Score\",mean_squared_error(y_te,y_pr))\n",
    "plot_fig(y_te,y_pr)"
   ]
  },
  {
   "cell_type": "code",
   "execution_count": null,
   "id": "fff8fd70",
   "metadata": {
    "papermill": {
     "duration": 0.009777,
     "end_time": "2024-01-08T11:02:27.033692",
     "exception": false,
     "start_time": "2024-01-08T11:02:27.023915",
     "status": "completed"
    },
    "tags": []
   },
   "outputs": [],
   "source": [
    "file='models/randomforest.joblib'\n",
    "joblib.dump(model,file,protocol=5)\n",
    "label_encoders = [fuel_type,seller_type,transmission]\n",
    "file1 = 'models/labelencoder.joblib'\n",
    "joblib.dump(label_encoders,file1,protocol=5)"
   ]
  },
  {
   "cell_type": "code",
   "execution_count": null,
   "id": "bf562e9b",
   "metadata": {},
   "outputs": [],
   "source": []
  }
 ],
 "metadata": {
  "kaggle": {
   "accelerator": "none",
   "dataSources": [
    {
     "datasetId": 4237925,
     "sourceId": 7304347,
     "sourceType": "datasetVersion"
    }
   ],
   "dockerImageVersionId": 30626,
   "isGpuEnabled": false,
   "isInternetEnabled": true,
   "language": "python",
   "sourceType": "notebook"
  },
  "kernelspec": {
   "display_name": "Python 3 (ipykernel)",
   "language": "python",
   "name": "python3"
  },
  "language_info": {
   "codemirror_mode": {
    "name": "ipython",
    "version": 3
   },
   "file_extension": ".py",
   "mimetype": "text/x-python",
   "name": "python",
   "nbconvert_exporter": "python",
   "pygments_lexer": "ipython3",
   "version": "3.12.4"
  },
  "papermill": {
   "default_parameters": {},
   "duration": 149.688521,
   "end_time": "2024-01-08T11:02:27.866505",
   "environment_variables": {},
   "exception": null,
   "input_path": "__notebook__.ipynb",
   "output_path": "__notebook__.ipynb",
   "parameters": {},
   "start_time": "2024-01-08T10:59:58.177984",
   "version": "2.4.0"
  }
 },
 "nbformat": 4,
 "nbformat_minor": 5
}
